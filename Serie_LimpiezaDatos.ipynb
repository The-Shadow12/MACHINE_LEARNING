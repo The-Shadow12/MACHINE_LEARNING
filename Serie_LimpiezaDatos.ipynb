{
 "cells": [
  {
   "cell_type": "code",
   "execution_count": 1,
   "metadata": {},
   "outputs": [
    {
     "name": "stdout",
     "output_type": "stream",
     "text": [
      "Missing percentage:  A    20.0\n",
      "B    60.0\n",
      "C     0.0\n",
      "dtype: float64\n",
      "Data after deletion:     C\n",
      "0  1\n",
      "1  2\n",
      "2  3\n",
      "3  4\n",
      "4  5\n"
     ]
    }
   ],
   "source": [
    "import pandas as pd\n",
    "\n",
    "data = {'A': [1, 2, None, 4, 5],\n",
    "        'B': [None, None, None, 4, 5],\n",
    "        'C': [1, 2, 3, 4, 5]}\n",
    "\n",
    "df = pd.DataFrame(data)\n",
    "\n",
    "missing_percentage = df.isnull().mean() * 100\n",
    "print(\"Missing percentage: \", missing_percentage)\n",
    "\n",
    "threshold = 20\n",
    "df_cleaned = df.loc[:, missing_percentage < threshold]\n",
    "print(\"Data after deletion: \", df_cleaned)"
   ]
  }
 ],
 "metadata": {
  "kernelspec": {
   "display_name": "Beca_Japon",
   "language": "python",
   "name": "python3"
  },
  "language_info": {
   "codemirror_mode": {
    "name": "ipython",
    "version": 3
   },
   "file_extension": ".py",
   "mimetype": "text/x-python",
   "name": "python",
   "nbconvert_exporter": "python",
   "pygments_lexer": "ipython3",
   "version": "3.12.7"
  }
 },
 "nbformat": 4,
 "nbformat_minor": 2
}
